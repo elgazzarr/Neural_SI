{
 "cells": [
  {
   "cell_type": "code",
   "execution_count": 2,
   "metadata": {},
   "outputs": [],
   "source": [
    "import jax\n",
    "import equinox as eqx\n",
    "import diffrax as dfx\n",
    "import jax.numpy as jnp\n",
    "import jax.random as jrandom\n",
    "import jax.scipy as jcp \n",
    "import optax\n",
    "import math\n",
    "from typing import Callable, List\n",
    "import jax.nn as jnn\n",
    "import jax.numpy as jnp\n",
    "import ipdb\n",
    "from jax import jit\n",
    "import numpy as np \n",
    "import matplotlib.pyplot as plt\n",
    "import pandas as pd\n",
    "import seaborn as sns\n",
    "import time\n",
    "import os\n",
    "from jax import Array\n",
    "from diffrax.custom_types import PyTree, Scalar, Union\n",
    "import warnings\n",
    "from scipy.special import gammaln\n",
    "import sys\n",
    "sys.path.append('../')\n",
    "from copy import deepcopy\n",
    "warnings.filterwarnings(\"ignore\")\n",
    "from simulated_system.controller import Controller\n",
    "from simulated_system.data import *\n",
    "import pickle\n",
    "import yaml\n"
   ]
  },
  {
   "cell_type": "code",
   "execution_count": null,
   "metadata": {},
   "outputs": [],
   "source": [
    "config_path = '../configs/pilot.yaml'\n",
    "with open(config_path) as f:\n",
    "    config = yaml.safe_load(f)\n",
    "\n",
    "key = jrandom.PRNGKey(9)\n",
    "ts = jnp.linspace(0, config['data']['trial_time'], config['data']['n_timepoints'])\n",
    "t_stim = config['data']['t_stim']\n",
    "t_wait = config['data']['t_wait']\n",
    "t_go = t_stim + t_wait\n",
    "C = config['data']['control_size']\n",
    "loader = Sys_Dataloader(100, config, key)\n",
    "controls, outputs =loader.sample_observations(1)\n",
    "print(np.unique(jnp.argmax(outputs,axis=-1), return_counts=True))\n",
    "plotting(ts, controls, outputs, t_stim, t_go)"
   ]
  }
 ],
 "metadata": {
  "kernelspec": {
   "display_name": "jax",
   "language": "python",
   "name": "python3"
  },
  "language_info": {
   "codemirror_mode": {
    "name": "ipython",
    "version": 3
   },
   "file_extension": ".py",
   "mimetype": "text/x-python",
   "name": "python",
   "nbconvert_exporter": "python",
   "pygments_lexer": "ipython3",
   "version": "3.9.12"
  },
  "orig_nbformat": 4
 },
 "nbformat": 4,
 "nbformat_minor": 2
}
